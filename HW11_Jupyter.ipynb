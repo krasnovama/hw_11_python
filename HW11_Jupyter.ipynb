{
 "cells": [
  {
   "cell_type": "markdown",
   "id": "5a66812e",
   "metadata": {},
   "source": [
    "# Дана функция f(x) = x^3 - 6x^2 + 4x + 12 (или 5x^3 - x^2 - 20x + 4)\n",
    "- *Определить корни*\n",
    "- *Найти интервалы, на которых функция возрастает*\n",
    "- *Найти интервалы, на которых функция убывает*\n",
    "- *Построить график*\n",
    "- *Вычислить вершину*\n",
    "- *Определить промежутки, на котором f > 0*\n",
    "- *Определить промежутки, на котором f < 0*"
   ]
  },
  {
   "cell_type": "markdown",
   "id": "22eb8b99",
   "metadata": {},
   "source": [
    "### Решение задачи выполнено для любой функции 3 степени, f(x) = a*x^3 + b*x^2 + cx + d"
   ]
  },
  {
   "cell_type": "markdown",
   "id": "adca4397",
   "metadata": {},
   "source": [
    "## Определить корни"
   ]
  },
  {
   "cell_type": "markdown",
   "id": "42e183de",
   "metadata": {},
   "source": [
    "**1. Объявляем библиотеки и запрашиваем коэффициенты a, b, c, d от пользователя**"
   ]
  },
  {
   "cell_type": "code",
   "execution_count": 1,
   "id": "f7c1ccbe",
   "metadata": {},
   "outputs": [
    {
     "name": "stdout",
     "output_type": "stream",
     "text": [
      "Введите a: 5\n",
      "Введите b: -1\n",
      "Введите c: -20\n",
      "Введите d: 4\n"
     ]
    }
   ],
   "source": [
    "from sympy import *\n",
    "from math import sqrt\n",
    "x = Symbol('x')\n",
    "a = float(int(input(\"Введите a: \")))\n",
    "b = float(int(input(\"Введите b: \")))\n",
    "c = float(int(input(\"Введите c: \")))\n",
    "d = float(int(input(\"Введите d: \")))"
   ]
  },
  {
   "cell_type": "markdown",
   "id": "b4754125",
   "metadata": {},
   "source": [
    "**2. Подставляем переменную в функцию, выводим функцию с которой будем работать**"
   ]
  },
  {
   "cell_type": "code",
   "execution_count": 2,
   "id": "dafc6256",
   "metadata": {},
   "outputs": [
    {
     "name": "stdout",
     "output_type": "stream",
     "text": [
      "Задана функция: f(x) = 5.0*x**3 - 1.0*x**2 - 20.0*x + 4.0\n"
     ]
    }
   ],
   "source": [
    "f1 = a * x ** 3 + b * x ** 2 + c * x + d\n",
    "print (f\"Задана функция: f(x) = {f1}\")"
   ]
  },
  {
   "cell_type": "code",
   "execution_count": 3,
   "id": "416b0660",
   "metadata": {},
   "outputs": [
    {
     "data": {
      "text/latex": [
       "$\\displaystyle 5.0 x^{3} - 1.0 x^{2} - 20.0 x + 4.0$"
      ],
      "text/plain": [
       "5.0*x**3 - 1.0*x**2 - 20.0*x + 4.0"
      ]
     },
     "execution_count": 3,
     "metadata": {},
     "output_type": "execute_result"
    }
   ],
   "source": [
    "f1.evalf()"
   ]
  },
  {
   "cell_type": "markdown",
   "id": "765dcb2d",
   "metadata": {},
   "source": [
    "**3. Производим расчет корней (будут вычеслены и рациональные и комплексные корни)**"
   ]
  },
  {
   "cell_type": "code",
   "execution_count": 4,
   "id": "6cbc8dad",
   "metadata": {},
   "outputs": [
    {
     "name": "stdout",
     "output_type": "stream",
     "text": [
      "Корни функции:\n",
      "-2.00000000000000\n",
      "0.200000000000000\n",
      "2.00000000000000\n"
     ]
    }
   ],
   "source": [
    "f2 = solve(f1, x)\n",
    "print (\"Корни функции:\")\n",
    "print(*(x for x in f2), sep='\\n')"
   ]
  },
  {
   "cell_type": "markdown",
   "id": "20be3da1",
   "metadata": {},
   "source": [
    "## Найти интервалы, на которых функция возрастает и убывает"
   ]
  },
  {
   "cell_type": "markdown",
   "id": "33131d40",
   "metadata": {},
   "source": [
    "**1. Находим экстремумы фунции**"
   ]
  },
  {
   "cell_type": "code",
   "execution_count": 5,
   "id": "0ab3198a",
   "metadata": {},
   "outputs": [
    {
     "name": "stdout",
     "output_type": "stream",
     "text": [
      "Точки смены знака функции: [-1.08995677152650, 1.22329010485983]\n"
     ]
    }
   ],
   "source": [
    "extremum = solve(diff(f1),x) \n",
    "print (f\"Точки смены знака функции: {extremum}\")"
   ]
  },
  {
   "cell_type": "markdown",
   "id": "e09d44d3",
   "metadata": {},
   "source": [
    "**2. Выбираем значения для проверки на интервалах между экстремумами**"
   ]
  },
  {
   "cell_type": "code",
   "execution_count": 6,
   "id": "3a976464",
   "metadata": {},
   "outputs": [],
   "source": [
    "import random"
   ]
  },
  {
   "cell_type": "code",
   "execution_count": 7,
   "id": "50df840f",
   "metadata": {},
   "outputs": [],
   "source": [
    "if extremum[0]<0:\n",
    "    min_ex = 1000*extremum[0]\n",
    "else:\n",
    "    min_ex = -1000*extremum[0]\n",
    "    \n",
    "if extremum[1]>0:\n",
    "    max_ex =  1000*extremum[1]\n",
    "else:\n",
    "    max_ex = -1000*extremum[1]"
   ]
  },
  {
   "cell_type": "code",
   "execution_count": 8,
   "id": "0649eaf7",
   "metadata": {},
   "outputs": [],
   "source": [
    "proverka_interval_1 = random.uniform(min_ex,extremum[0])\n",
    "proverka_interval_2 = random.uniform(extremum[0],extremum[1])\n",
    "proverka_interval_3 = random.uniform(extremum[1],max_ex)"
   ]
  },
  {
   "cell_type": "markdown",
   "id": "2f2f0db5",
   "metadata": {},
   "source": [
    "**3. Исследуем знаки производной**"
   ]
  },
  {
   "cell_type": "code",
   "execution_count": 9,
   "id": "29cf07cb",
   "metadata": {},
   "outputs": [],
   "source": [
    "def f_dif (x, a, b, c):\n",
    "    my_fun = a * 3 * x ** 2 + b * 2 * x + c\n",
    "    return my_fun"
   ]
  },
  {
   "cell_type": "code",
   "execution_count": 10,
   "id": "e0634017",
   "metadata": {},
   "outputs": [],
   "source": [
    "interval_1 = f_dif(proverka_interval_1, a, b, c)\n",
    "interval_2 = f_dif(proverka_interval_2, a, b, c)\n",
    "interval_3 = f_dif(proverka_interval_3, a, b, c)"
   ]
  },
  {
   "cell_type": "code",
   "execution_count": 11,
   "id": "d916bd8a",
   "metadata": {},
   "outputs": [],
   "source": [
    "if interval_1 > 0:\n",
    "    rezult_1 = \"возрастает\"\n",
    "else:\n",
    "    rezult_1 = \"убывает\"\n",
    "    \n",
    "if interval_2 > 0:\n",
    "    rezult_2 = \"возрастает\"\n",
    "else:\n",
    "    rezult_2 = \"убывает\"\n",
    "    \n",
    "if interval_3 > 0:\n",
    "    rezult_3 = \"возрастает\"\n",
    "else:\n",
    "    rezult_3 = \"убывает\""
   ]
  },
  {
   "cell_type": "code",
   "execution_count": 12,
   "id": "431eddf7",
   "metadata": {},
   "outputs": [
    {
     "name": "stdout",
     "output_type": "stream",
     "text": [
      "Функция возрастает на интервале: [-oo : -1.08995677152650], убывает на интервале: [-1.08995677152650 : 1.22329010485983], возрастает на интервале: [1.22329010485983 : oo]\n"
     ]
    }
   ],
   "source": [
    "print (f\"Функция {rezult_1} на интервале: [{-oo} : {extremum[0]}], {rezult_2} на интервале: [{extremum[0]} : {extremum[1]}], {rezult_3} на интервале: [{extremum[1]} : {+ oo}]\")"
   ]
  },
  {
   "cell_type": "markdown",
   "id": "92d28f21",
   "metadata": {},
   "source": [
    "## Построить график"
   ]
  },
  {
   "cell_type": "code",
   "execution_count": 13,
   "id": "2992a773",
   "metadata": {},
   "outputs": [
    {
     "data": {
      "image/png": "[encoded data removed]",
      "text/plain": [
       "<Figure size 432x288 with 1 Axes>"
      ]
     },
     "metadata": {
      "needs_background": "light"
     },
     "output_type": "display_data"
    },
    {
     "data": {
      "text/plain": [
       "<sympy.plotting.plot.Plot at 0x2006f2f6490>"
      ]
     },
     "execution_count": 13,
     "metadata": {},
     "output_type": "execute_result"
    }
   ],
   "source": [
    "plotting.plot(f1)"
   ]
  },
  {
   "cell_type": "markdown",
   "id": "64a27522",
   "metadata": {},
   "source": [
    "## Вычислить вершину"
   ]
  },
  {
   "cell_type": "markdown",
   "id": "32b51a5e",
   "metadata": {},
   "source": [
    "**1. Расчитываем значения y с ранее найденными точками смены знаков (экстремумами)**"
   ]
  },
  {
   "cell_type": "code",
   "execution_count": 14,
   "id": "629320c2",
   "metadata": {},
   "outputs": [],
   "source": [
    "def fx (x, a, b, c, d):\n",
    "    return a * x ** 3 + b * x ** 2 + c * x + d"
   ]
  },
  {
   "cell_type": "code",
   "execution_count": 15,
   "id": "6325d4a3",
   "metadata": {},
   "outputs": [
    {
     "name": "stdout",
     "output_type": "stream",
     "text": [
      "Вершины в точках: [-1.08995677152650 : 18.1367550324212] и [1.22329010485983 : -12.8093476250137]\n"
     ]
    }
   ],
   "source": [
    "y_0 = fx(extremum[0], a, b, c, d)\n",
    "y_1 = fx(extremum[1], a, b, c, d)\n",
    "print (f\"Вершины в точках: [{extremum[0]} : {y_0}] и [{extremum[1]} : {y_1}]\")"
   ]
  },
  {
   "cell_type": "markdown",
   "id": "3139d828",
   "metadata": {},
   "source": [
    "## Определить промежутки, на котором f > 0, f < 0"
   ]
  },
  {
   "cell_type": "markdown",
   "id": "519fa883",
   "metadata": {},
   "source": [
    "**1. Определяем промежутки**"
   ]
  },
  {
   "cell_type": "code",
   "execution_count": 16,
   "id": "b8ebba79",
   "metadata": {},
   "outputs": [],
   "source": [
    "prom_1 = fx(proverka_interval_1, a, b, c, d)\n",
    "prom_2 = fx(proverka_interval_2, a, b, c, d)\n",
    "prom_3 = fx(proverka_interval_3, a, b, c, d)"
   ]
  },
  {
   "cell_type": "code",
   "execution_count": 17,
   "id": "85860791",
   "metadata": {},
   "outputs": [],
   "source": [
    "if prom_1 > 0:\n",
    "    rez_1 = \"больше нуля\"\n",
    "else:\n",
    "    rez_1 = \"меньше нуля\"\n",
    "    \n",
    "if prom_2 > 0:\n",
    "    rez_2 = \"больше нуля\"\n",
    "else:\n",
    "    rez_2 = \"меньше нуля\"\n",
    "    \n",
    "if prom_3 > 0:\n",
    "    rez_3 = \"больше нуля\"\n",
    "else:\n",
    "    rez_3 = \"меньше нуля\""
   ]
  },
  {
   "cell_type": "code",
   "execution_count": 18,
   "id": "4620dd7e",
   "metadata": {},
   "outputs": [
    {
     "name": "stdout",
     "output_type": "stream",
     "text": [
      "Функция меньше нуля на интервале: [-oo : -1.08995677152650], больше нуля на интервале: [-1.08995677152650 : 1.22329010485983], больше нуля на интервале: [1.22329010485983 : oo]\n"
     ]
    }
   ],
   "source": [
    "print (f\"Функция {rez_1} на интервале: [{-oo} : {extremum[0]}], {rez_2} на интервале: [{extremum[0]} : {extremum[1]}], {rez_3} на интервале: [{extremum[1]} : {+ oo}]\")"
   ]
  }
 ],
 "metadata": {
  "kernelspec": {
   "display_name": "Python 3 (ipykernel)",
   "language": "python",
   "name": "python3"
  },
  "language_info": {
   "codemirror_mode": {
    "name": "ipython",
    "version": 3
   },
   "file_extension": ".py",
   "mimetype": "text/x-python",
   "name": "python",
   "nbconvert_exporter": "python",
   "pygments_lexer": "ipython3",
   "version": "3.9.12"
  }
 },
 "nbformat": 4,
 "nbformat_minor": 5
}
